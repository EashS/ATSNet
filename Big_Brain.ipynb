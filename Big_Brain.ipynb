{
  "nbformat": 4,
  "nbformat_minor": 0,
  "metadata": {
    "colab": {
      "provenance": [],
      "collapsed_sections": [],
      "toc_visible": true
    },
    "kernelspec": {
      "display_name": "Python 3",
      "name": "python3"
    }
  },
  "cells": [
    {
      "cell_type": "code",
      "metadata": {
        "colab": {
          "base_uri": "https://localhost:8080/"
        },
        "id": "gNlea0-PAo5G",
        "outputId": "20f6057d-7d5a-4e6f-b87c-74f045091e3f"
      },
      "source": [
        "# Loadiing Google Drive to access dataset\n",
        "from google.colab import drive\n",
        "drive.mount('/content/drive', force_remount=True)\n",
        "\n",
        "# Adding Google Drive path\n",
        "import sys\n",
        "sys.path.append('/content/drive/My Drive/')"
      ],
      "execution_count": null,
      "outputs": [
        {
          "output_type": "stream",
          "text": [
            "Mounted at /content/drive\n"
          ],
          "name": "stdout"
        }
      ]
    },
    {
      "cell_type": "code",
      "metadata": {
        "id": "wJaoAXZ9A_km"
      },
      "source": [
        "# Importing basic libraries\n",
        "import torch\n",
        "from torchvision import datasets, models, transforms\n",
        "import torch.nn as nn\n",
        "import torch.nn.functional as F\n",
        "import numpy as np\n",
        "from PIL import Image\n",
        "import os\n",
        "import matplotlib.pyplot as plt\n",
        "\n",
        "import random\n",
        "np.random.seed(47)\n",
        "import time\n",
        "import h5py\n",
        "import models_2"
      ],
      "execution_count": null,
      "outputs": []
    },
    {
      "cell_type": "code",
      "metadata": {
        "id": "fZ4PnjqZZHkN"
      },
      "source": [
        "class preprocessUtil:\n",
        "\n",
        "  @staticmethod\n",
        "  def batch_norm(arr):\n",
        "    if np.max(arr)==1:\n",
        "        return arr\n",
        "    return arr/np.max(arr)\n",
        "  \n",
        "  @staticmethod\n",
        "  def drawOnto(image, label):\n",
        "    return preprocessUtil.batch_norm(image)+preprocessUtil.batch_norm(label)\n"
      ],
      "execution_count": null,
      "outputs": []
    },
    {
      "cell_type": "code",
      "metadata": {
        "id": "pUvVRfn6BXqD"
      },
      "source": [
        "# Dataset Loader https://pytorch.org/tutorials/beginner/data_loading_tutorial.html\n",
        "from matplotlib import cm\n",
        "\n",
        "class BrainTumorDataset(torch.utils.data.Dataset):\n",
        "    def __init__(self, X_path, transform_X, transform_y):\n",
        "        \"\"\"\n",
        "            X_path: List of X_paths\n",
        "            Transform: X Transforms\n",
        "        \"\"\"\n",
        "\n",
        "        self.TRAIN_VALID_TEST = (90,5,5)\n",
        "\n",
        "        self.X_path = X_path\n",
        "        self.train_paths = []\n",
        "        self.valid_paths = []\n",
        "        self.test_paths = []\n",
        "\n",
        "        for path in X_path:\n",
        "          paths = os.listdir(path)\n",
        "          paths = [path+pth for pth in paths]\n",
        "          np.random.shuffle(paths)\n",
        "          train_length = self.TRAIN_VALID_TEST[0]*len(paths)//100\n",
        "          test_length = self.TRAIN_VALID_TEST[1]*len(paths)//100\n",
        "          valid_length = self.TRAIN_VALID_TEST[2]*len(paths)//100\n",
        "          self.train_paths.extend(paths[:train_length])\n",
        "          self.valid_paths.append(paths[train_length:-test_length])\n",
        "          self.test_paths.append(paths[-test_length:])\n",
        "          \n",
        "\n",
        "        self.transform_X = transform_X\n",
        "        self.transform_y = transform_y\n",
        "\n",
        "        #self.X_paths = self.X_paths[:50]\n",
        "        #self.y_paths = self.y_paths[:50]\n",
        "\n",
        "        self.TRAIN_LENGTH = len(self.train_paths)\n",
        "        self.VALID_LENGTHS = [len(path) for path in self.valid_paths]\n",
        "        self.TEST_LENGTHS = [len(path) for path in self.test_paths]\n",
        "\n",
        "    def __len__(self):\n",
        "        return self.TRAIN_LENGTH\n",
        "\n",
        "    def __getitem__(self, idx):\n",
        "      dic = {}\n",
        "      with h5py.File(self.train_paths[idx], 'r') as f:\n",
        "        f = f[\"cjdata\"]\n",
        "        for k, v in f.items():\n",
        "          dic[k] = np.array(v)\n",
        "          \n",
        "        if dic[\"image\"].shape != (512,512):\n",
        "            img = Image.fromarray(dic[\"image\"], 'L')\n",
        "            img = img.resize((512,512))\n",
        "            dic[\"image\"] = np.array(img)\n",
        "            img = Image.fromarray(dic[\"label\"], 'L')\n",
        "            img = img.resize((512,512))\n",
        "            dic[\"label\"] = np.array(img)\n",
        "            img = Image.fromarray(dic[\"tumorMask\"], 'L')\n",
        "            img = img.resize((512,512))\n",
        "            dic[\"tumorMask\"] = np.array(img)\n",
        "        sample = {'image': preprocessUtil.batch_norm(dic[\"image\"]), 'labels': preprocessUtil.batch_norm(dic[\"tumorMask\"]), 'id': dic[\"label\"]}\n",
        "        return sample\n",
        "\n",
        "    def test_item(self, id, idx):\n",
        "      dic = {}\n",
        "      with h5py.File(self.test_paths[id][idx], 'r') as f:\n",
        "        f = f[\"cjdata\"]\n",
        "        for k, v in f.items():\n",
        "          dic[k] = np.array(v)\n",
        "        if dic[\"image\"].shape != (512,512):\n",
        "            img = Image.fromarray(dic[\"image\"], 'L')\n",
        "            img = img.resize((512,512))\n",
        "            dic[\"image\"] = np.array(img)\n",
        "            img = Image.fromarray(dic[\"label\"], 'L')\n",
        "            img = img.resize((512,512))\n",
        "            dic[\"label\"] = np.array(img)\n",
        "            img = Image.fromarray(dic[\"tumorMask\"], 'L')\n",
        "            img = img.resize((512,512))\n",
        "            dic[\"tumorMask\"] = np.array(img)\n",
        "    \n",
        "    def valid_item(self, id, idx):\n",
        "      dic = {}\n",
        "      with h5py.File(self.valid_paths[id][idx], 'r') as f:\n",
        "        f = f[\"cjdata\"]\n",
        "        for k, v in f.items():\n",
        "          dic[k] = np.array(v)\n",
        "        if dic[\"image\"].shape != (512,512):\n",
        "            img = Image.fromarray(dic[\"image\"], 'L')\n",
        "            img = img.resize((512,512))\n",
        "            dic[\"image\"] = np.array(img)\n",
        "            img = Image.fromarray(dic[\"label\"], 'L')\n",
        "            img = img.resize((512,512))\n",
        "            dic[\"label\"] = np.array(img)\n",
        "            img = Image.fromarray(dic[\"tumorMask\"], 'L')\n",
        "            img = img.resize((512,512))\n",
        "            dic[\"tumorMask\"] = np.array(img)\n",
        "\n",
        "\n",
        "        sample = {'image': preprocessUtil.batch_norm(dic[\"image\"]), 'labels': preprocessUtil.batch_norm(dic[\"tumorMask\"]), 'id': dic[\"label\"]}\n",
        "        return sample"
      ],
      "execution_count": null,
      "outputs": []
    },
    {
      "cell_type": "code",
      "metadata": {
        "id": "zx33sBDXBcF7"
      },
      "source": [
        "X_path = ['/content/drive/My Drive/Brain_Dataset/linki/1/', '/content/drive/My Drive/Brain_Dataset/linki/2/', '/content/drive/My Drive/Brain_Dataset/linki/3/']\n",
        "\n",
        "# Transforms https://pytorch.org/docs/stable/torchvision/transforms.html\n",
        "transform_X = transforms.Compose([\n",
        "     transforms.ToTensor()])\n",
        "\n",
        "transform_y = transforms.Compose([\n",
        "     transforms.ToTensor()])\n",
        "\n",
        "BrainTrainSet = BrainTumorDataset(X_path, transform_X, transform_y)\n",
        "\n",
        "# NOTE: Keeping batch_size = 2 due to colab RAM limit\n",
        "BrainTrainLoader = torch.utils.data.DataLoader(BrainTrainSet,batch_size=2,shuffle=True, num_workers=2)"
      ],
      "execution_count": null,
      "outputs": []
    },
    {
      "cell_type": "code",
      "metadata": {
        "colab": {
          "base_uri": "https://localhost:8080/"
        },
        "id": "3RVu2ybOePx0",
        "outputId": "6710f98d-ff71-4537-d94d-bcf4b832f9ce"
      },
      "source": [
        "try:\n",
        "  for i, data in enumerate(BrainTrainLoader):\n",
        "    pass\n",
        "except:\n",
        "  print(i, data)"
      ],
      "execution_count": null,
      "outputs": [
        {
          "output_type": "stream",
          "text": [
            "118 {'image': tensor([[[0.0000, 0.0000, 0.0000,  ..., 0.0000, 0.0000, 0.0000],\n",
            "         [0.0000, 0.0000, 0.0000,  ..., 0.0000, 0.0000, 0.0000],\n",
            "         [0.0000, 0.0000, 0.0000,  ..., 0.0000, 0.0000, 0.0000],\n",
            "         ...,\n",
            "         [0.0000, 0.0000, 0.0000,  ..., 0.0000, 0.0000, 0.0000],\n",
            "         [0.0000, 0.0000, 0.0000,  ..., 0.0000, 0.0000, 0.0000],\n",
            "         [0.0000, 0.0000, 0.0000,  ..., 0.0000, 0.0000, 0.0000]],\n",
            "\n",
            "        [[0.0000, 0.0000, 0.0000,  ..., 0.0000, 0.0000, 0.0000],\n",
            "         [0.0000, 0.0000, 0.0000,  ..., 0.0000, 0.0000, 0.0000],\n",
            "         [0.0000, 0.0000, 0.0000,  ..., 0.0000, 0.0000, 0.0000],\n",
            "         ...,\n",
            "         [0.0000, 0.0000, 0.0000,  ..., 0.0011, 0.0000, 0.0000],\n",
            "         [0.0000, 0.0000, 0.0000,  ..., 0.0000, 0.0000, 0.0000],\n",
            "         [0.0000, 0.0000, 0.0000,  ..., 0.0000, 0.0000, 0.0000]]],\n",
            "       dtype=torch.float64), 'labels': tensor([[[0, 0, 0,  ..., 0, 0, 0],\n",
            "         [0, 0, 0,  ..., 0, 0, 0],\n",
            "         [0, 0, 0,  ..., 0, 0, 0],\n",
            "         ...,\n",
            "         [0, 0, 0,  ..., 0, 0, 0],\n",
            "         [0, 0, 0,  ..., 0, 0, 0],\n",
            "         [0, 0, 0,  ..., 0, 0, 0]],\n",
            "\n",
            "        [[0, 0, 0,  ..., 0, 0, 0],\n",
            "         [0, 0, 0,  ..., 0, 0, 0],\n",
            "         [0, 0, 0,  ..., 0, 0, 0],\n",
            "         ...,\n",
            "         [0, 0, 0,  ..., 0, 0, 0],\n",
            "         [0, 0, 0,  ..., 0, 0, 0],\n",
            "         [0, 0, 0,  ..., 0, 0, 0]]], dtype=torch.uint8), 'id': tensor([[[2.]],\n",
            "\n",
            "        [[3.]]], dtype=torch.float64)}\n"
          ],
          "name": "stdout"
        }
      ]
    },
    {
      "cell_type": "code",
      "metadata": {
        "id": "7hTWIbDgfbKq",
        "colab": {
          "base_uri": "https://localhost:8080/"
        },
        "outputId": "62d4e2ff-985f-408c-be8d-f55a18b84cde"
      },
      "source": [
        "data[\"image\"].shape"
      ],
      "execution_count": null,
      "outputs": [
        {
          "output_type": "execute_result",
          "data": {
            "text/plain": [
              "torch.Size([2, 512, 512])"
            ]
          },
          "metadata": {
            "tags": []
          },
          "execution_count": 22
        }
      ]
    },
    {
      "cell_type": "code",
      "metadata": {
        "colab": {
          "base_uri": "https://localhost:8080/"
        },
        "id": "6S1_O-tqvRME",
        "outputId": "8dd1145b-3136-449c-acc5-4ff6dcf73952"
      },
      "source": [
        "BrainTrainLoader.__len__()"
      ],
      "execution_count": null,
      "outputs": [
        {
          "output_type": "execute_result",
          "data": {
            "text/plain": [
              "1379"
            ]
          },
          "metadata": {
            "tags": []
          },
          "execution_count": 24
        }
      ]
    },
    {
      "cell_type": "code",
      "metadata": {
        "colab": {
          "base_uri": "https://localhost:8080/"
        },
        "id": "cAZOmpo4vWlW",
        "outputId": "b5721230-36bd-457b-8fb5-ac4833d30e1d"
      },
      "source": [
        "BrainTrainSet.__len__()"
      ],
      "execution_count": null,
      "outputs": [
        {
          "output_type": "execute_result",
          "data": {
            "text/plain": [
              "2757"
            ]
          },
          "metadata": {
            "tags": []
          },
          "execution_count": 25
        }
      ]
    },
    {
      "cell_type": "code",
      "metadata": {
        "id": "j66NvUZRtLAT"
      },
      "source": [
        "dic = BrainTrainSet[5]"
      ],
      "execution_count": null,
      "outputs": []
    },
    {
      "cell_type": "code",
      "metadata": {
        "colab": {
          "base_uri": "https://localhost:8080/"
        },
        "id": "xWec2gtlBcvq",
        "outputId": "46a1c611-8a99-43bf-b86f-2f04d332828c"
      },
      "source": [
        "print(BrainTrainSet.__len__())\n",
        "np.array(BrainTrainSet[5][\"labels\"]).shape"
      ],
      "execution_count": null,
      "outputs": [
        {
          "output_type": "stream",
          "text": [
            "3064\n"
          ],
          "name": "stdout"
        },
        {
          "output_type": "execute_result",
          "data": {
            "text/plain": [
              "(512, 512)"
            ]
          },
          "metadata": {
            "tags": []
          },
          "execution_count": 7
        }
      ]
    },
    {
      "cell_type": "code",
      "metadata": {
        "colab": {
          "base_uri": "https://localhost:8080/"
        },
        "id": "pHl3L8r8Rz2v",
        "outputId": "82c93a26-65c7-4443-dfcb-b5b3d7442307"
      },
      "source": [
        "dic.keys()"
      ],
      "execution_count": null,
      "outputs": [
        {
          "output_type": "execute_result",
          "data": {
            "text/plain": [
              "dict_keys(['image', 'labels', 'id'])"
            ]
          },
          "metadata": {
            "tags": []
          },
          "execution_count": 8
        }
      ]
    },
    {
      "cell_type": "code",
      "metadata": {
        "colab": {
          "base_uri": "https://localhost:8080/",
          "height": 286
        },
        "id": "c03ciNNVNIzF",
        "outputId": "57bfa4d0-1572-4783-ea27-475b903567fa"
      },
      "source": [
        "plt.imshow(dic[\"image\"])"
      ],
      "execution_count": null,
      "outputs": [
        {
          "output_type": "execute_result",
          "data": {
            "text/plain": [
              "<matplotlib.image.AxesImage at 0x7f0bb22c34e0>"
            ]
          },
          "metadata": {
            "tags": []
          },
          "execution_count": 7
        },
        {
          "output_type": "display_data",
          "data": {
            "image/png": "[encoded data removed]",
            "text/plain": [
              "<Figure size 432x288 with 1 Axes>"
            ]
          },
          "metadata": {
            "tags": []
          }
        }
      ]
    },
    {
      "cell_type": "code",
      "metadata": {
        "colab": {
          "base_uri": "https://localhost:8080/",
          "height": 286
        },
        "id": "h1p_X0hONoiz",
        "outputId": "bb6139d5-1057-49f6-c70c-6159773de21a"
      },
      "source": [
        "plt.imshow(dic[\"labels\"])"
      ],
      "execution_count": null,
      "outputs": [
        {
          "output_type": "execute_result",
          "data": {
            "text/plain": [
              "<matplotlib.image.AxesImage at 0x7f0bb1e20198>"
            ]
          },
          "metadata": {
            "tags": []
          },
          "execution_count": 8
        },
        {
          "output_type": "display_data",
          "data": {
            "image/png": "[encoded data removed]",
            "text/plain": [
              "<Figure size 432x288 with 1 Axes>"
            ]
          },
          "metadata": {
            "tags": []
          }
        }
      ]
    },
    {
      "cell_type": "code",
      "metadata": {
        "colab": {
          "base_uri": "https://localhost:8080/",
          "height": 286
        },
        "id": "0UuvpMhAR2i_",
        "outputId": "99552e72-00a1-4828-fcd0-5e831c8542ca"
      },
      "source": [
        "plt.imshow(preprocessUtil.drawOnto(dic[\"image\"], dic[\"labels\"]))"
      ],
      "execution_count": null,
      "outputs": [
        {
          "output_type": "execute_result",
          "data": {
            "text/plain": [
              "<matplotlib.image.AxesImage at 0x7f0bb0580978>"
            ]
          },
          "metadata": {
            "tags": []
          },
          "execution_count": 9
        },
        {
          "output_type": "display_data",
          "data": {
            "image/png": "[encoded data removed]",
            "text/plain": [
              "<Figure size 432x288 with 1 Axes>"
            ]
          },
          "metadata": {
            "tags": []
          }
        }
      ]
    },
    {
      "cell_type": "code",
      "metadata": {
        "id": "GS0kymSZSWBq"
      },
      "source": [
        "device = torch.device(\"cuda:0\" if torch.cuda.is_available() else \"cpu\")"
      ],
      "execution_count": null,
      "outputs": []
    },
    {
      "cell_type": "code",
      "metadata": {
        "id": "R9FgCQUDWnxQ"
      },
      "source": [
        "#Unet_Model\n",
        "# import torch\n",
        "# import torch.nn as nn\n",
        "class DoubleConv(nn.Module):\n",
        "    def __init__(self, in_channels, out_channels):\n",
        "        super(DoubleConv, self).__init__()\n",
        "        self.double_conv = nn.Sequential(\n",
        "            nn.Conv2d(in_channels, out_channels, kernel_size=3, padding=1),\n",
        "            nn.BatchNorm2d(out_channels),\n",
        "            nn.ReLU(inplace=True),\n",
        "            nn.Conv2d(out_channels, out_channels, kernel_size=3, padding=1),\n",
        "            nn.BatchNorm2d(out_channels),\n",
        "            nn.ReLU(inplace=True),\n",
        "        )\n",
        "\n",
        "    def forward(self, x):\n",
        "        return self.double_conv(x)\n",
        "\n",
        "class DownBlock(nn.Module):\n",
        "    def __init__(self, in_channels, out_channels):\n",
        "        super(DownBlock, self).__init__()\n",
        "        self.double_conv = DoubleConv(in_channels, out_channels)\n",
        "        self.down_sample = nn.MaxPool2d(2)\n",
        "\n",
        "    def forward(self, x):\n",
        "        skip_out = self.double_conv(x)\n",
        "        down_out = self.down_sample(skip_out)\n",
        "        return (down_out, skip_out)\n",
        "\n",
        "class UpBlock(nn.Module):\n",
        "    def __init__(self, in_channels, out_channels):\n",
        "        super(UpBlock, self).__init__()\n",
        "        self.up_sample = nn.Upsample(scale_factor=2, mode='bilinear', align_corners=True)\n",
        "        self.double_conv = DoubleConv(in_channels, out_channels)\n",
        "\n",
        "    def forward(self, down_input, skip_input):\n",
        "        x = self.up_sample(down_input)\n",
        "        x = torch.cat([x, skip_input], dim=1)\n",
        "        return self.double_conv(x)\n",
        "\n",
        "\n",
        "class UNet(nn.Module):\n",
        "    def __init__(self, out_classes=1):\n",
        "        super(UNet, self).__init__()\n",
        "\n",
        "        self.down_conv1 = DownBlock(1, 64)\n",
        "        self.down_conv2 = DownBlock(64, 128)\n",
        "        self.down_conv3 = DownBlock(128, 256)\n",
        "        self.down_conv4 = DownBlock(256, 512)\n",
        "\n",
        "        self.double_conv = DoubleConv(512, 1024)\n",
        "\n",
        "        self.up_conv4 = UpBlock(512 + 1024, 512)\n",
        "        self.up_conv3 = UpBlock(256 + 512, 256)\n",
        "        self.up_conv2 = UpBlock(128 + 256, 128)\n",
        "        self.up_conv1 = UpBlock(128 + 64, 64)\n",
        "\n",
        "        self.conv_last = nn.Conv2d(64, out_classes, kernel_size=1)\n",
        "\n",
        "    def forward(self, x):\n",
        "        x, skip1_out = self.down_conv1(x)\n",
        "        x, skip2_out = self.down_conv2(x)\n",
        "        x, skip3_out = self.down_conv3(x)\n",
        "        x, skip4_out = self.down_conv4(x)\n",
        "        x = self.double_conv(x)\n",
        "        x = self.up_conv4(x, skip4_out)\n",
        "        x = self.up_conv3(x, skip3_out)\n",
        "        x = self.up_conv2(x, skip2_out)\n",
        "        x = self.up_conv1(x, skip1_out)\n",
        "        x = self.conv_last(x)\n",
        "        return x\n",
        "\n",
        "model = UNet().to(device)\n"
      ],
      "execution_count": null,
      "outputs": []
    },
    {
      "cell_type": "code",
      "metadata": {
        "id": "MI_3ZOcm5KJD"
      },
      "source": [
        "model = UNet().to(device) #### Model instance\n",
        "\n",
        "class dice_loss(nn.Module):\n",
        "    def __init__(self):\n",
        "        super().__init__()\n",
        "        \n",
        "    def forward(pred, target, epsilon=1e-7, use_sigmoid=True):\n",
        "      pred = pred.contiguous()\n",
        "      if use_sigmoid:\n",
        "          pred = torch.sigmoid(pred)\n",
        "      target = target.contiguous()\n",
        "      intersection = (pred * target).sum(dim=2).sum(dim=2)\n",
        "      loss = (1 - ((2. * intersection + epsilon) / (pred.sum(dim=2).sum(dim=2) + target.sum(dim=2).sum(dim=2) + epsilon)))\n",
        "      return loss.mean()\n",
        "\n",
        "criterion = dice_loss().to(device) #### nn.MSELoss().to(device)#RMSLELoss().cuda()\n",
        "# criterion = nn.MSELoss().to(device)\n",
        "optimizer = torch.optim.Adam(model.parameters(), lr=0.08)  #### optim.SGD(model.parameters(), lr=0.08, momentum=0.9)"
      ],
      "execution_count": null,
      "outputs": []
    },
    {
      "cell_type": "code",
      "metadata": {
        "colab": {
          "background_save": true
        },
        "id": "ZxsWYB8B4w1r",
        "outputId": "8695c318-d585-4649-cf2c-0521c9832f8b"
      },
      "source": [
        "#model.load_state_dict(torch.load('/content/drive/My Drive/brainnet2.pth'))\n",
        "def train(epoch):\n",
        "    model.train()\n",
        "    tr_loss = 0\n",
        "    losses_list = []\n",
        "    # getting the training set\n",
        "    for i, data in enumerate(BrainTrainSet, 0):\n",
        "        start = time.time()\n",
        "        # get the inputs; data is a list of [inputs, labels]\n",
        "\n",
        "        x_train, y_train = torch.Tensor(data[\"image\"].reshape((1,1,512,512))).to(device), torch.Tensor(data[\"labels\"]).to(device)\n",
        "\n",
        "        # clearing the Gradients of the model parameters\n",
        "        optimizer.zero_grad()\n",
        "        # prediction for training and validation set\n",
        "        output_train = model(x_train.float())\n",
        "\n",
        "        # computing the training and validation loss\n",
        "        loss_train = dice_loss.forward(output_train, y_train.reshape((1,1,512,512)))\n",
        "        train_losses.append(loss_train)\n",
        "\n",
        "        # computing the updated weights of all the model parameters\n",
        "        loss_train.backward()\n",
        "        optimizer.step()\n",
        "        tr_loss += loss_train.item()\n",
        "        losses_list.append(loss_train.item())\n",
        "            # printing the validation loss\n",
        "        #print('Epoch : ',epoch+1, 'Batch : ', i, ' Loss : ', tr_loss, 'Time : ', time.time()-start)\n",
        "    torch.save(model.state_dict(), '/content/drive/My Drive/brainnet.pth')\n",
        "    print('Epoch : ',epoch+1, ' Loss : ', tr_loss)\n",
        "    return losses_list\n",
        "# defining the number of epochs\n",
        "n_epochs = 30\n",
        "# empty list to store training losses\n",
        "train_losses = [] \n",
        "# training the model\n",
        "for epoch in range(n_epochs):\n",
        "    train_losses.append(train(epoch))"
      ],
      "execution_count": null,
      "outputs": [
        {
          "output_type": "error",
          "ename": "ValueError",
          "evalue": "ignored",
          "traceback": [
            "\u001b[0;31m---------------------------------------------------------------------------\u001b[0m",
            "\u001b[0;31mValueError\u001b[0m                                Traceback (most recent call last)",
            "\u001b[0;32m<ipython-input-11-7fa0fadc07d4>\u001b[0m in \u001b[0;36m<module>\u001b[0;34m()\u001b[0m\n\u001b[1;32m     36\u001b[0m \u001b[0;31m# training the model\u001b[0m\u001b[0;34m\u001b[0m\u001b[0;34m\u001b[0m\u001b[0;34m\u001b[0m\u001b[0m\n\u001b[1;32m     37\u001b[0m \u001b[0;32mfor\u001b[0m \u001b[0mepoch\u001b[0m \u001b[0;32min\u001b[0m \u001b[0mrange\u001b[0m\u001b[0;34m(\u001b[0m\u001b[0mn_epochs\u001b[0m\u001b[0;34m)\u001b[0m\u001b[0;34m:\u001b[0m\u001b[0;34m\u001b[0m\u001b[0;34m\u001b[0m\u001b[0m\n\u001b[0;32m---> 38\u001b[0;31m     \u001b[0mtrain_losses\u001b[0m\u001b[0;34m.\u001b[0m\u001b[0mappend\u001b[0m\u001b[0;34m(\u001b[0m\u001b[0mtrain\u001b[0m\u001b[0;34m(\u001b[0m\u001b[0mepoch\u001b[0m\u001b[0;34m)\u001b[0m\u001b[0;34m)\u001b[0m\u001b[0;34m\u001b[0m\u001b[0;34m\u001b[0m\u001b[0m\n\u001b[0m",
            "\u001b[0;32m<ipython-input-11-7fa0fadc07d4>\u001b[0m in \u001b[0;36mtrain\u001b[0;34m(epoch)\u001b[0m\n\u001b[1;32m      9\u001b[0m         \u001b[0;31m# get the inputs; data is a list of [inputs, labels]\u001b[0m\u001b[0;34m\u001b[0m\u001b[0;34m\u001b[0m\u001b[0;34m\u001b[0m\u001b[0m\n\u001b[1;32m     10\u001b[0m \u001b[0;34m\u001b[0m\u001b[0m\n\u001b[0;32m---> 11\u001b[0;31m         \u001b[0mx_train\u001b[0m\u001b[0;34m,\u001b[0m \u001b[0my_train\u001b[0m \u001b[0;34m=\u001b[0m \u001b[0mtorch\u001b[0m\u001b[0;34m.\u001b[0m\u001b[0mTensor\u001b[0m\u001b[0;34m(\u001b[0m\u001b[0mdata\u001b[0m\u001b[0;34m[\u001b[0m\u001b[0;34m\"image\"\u001b[0m\u001b[0;34m]\u001b[0m\u001b[0;34m.\u001b[0m\u001b[0mreshape\u001b[0m\u001b[0;34m(\u001b[0m\u001b[0;34m(\u001b[0m\u001b[0;36m1\u001b[0m\u001b[0;34m,\u001b[0m\u001b[0;36m1\u001b[0m\u001b[0;34m,\u001b[0m\u001b[0;36m512\u001b[0m\u001b[0;34m,\u001b[0m\u001b[0;36m512\u001b[0m\u001b[0;34m)\u001b[0m\u001b[0;34m)\u001b[0m\u001b[0;34m)\u001b[0m\u001b[0;34m.\u001b[0m\u001b[0mto\u001b[0m\u001b[0;34m(\u001b[0m\u001b[0mdevice\u001b[0m\u001b[0;34m)\u001b[0m\u001b[0;34m,\u001b[0m \u001b[0mtorch\u001b[0m\u001b[0;34m.\u001b[0m\u001b[0mTensor\u001b[0m\u001b[0;34m(\u001b[0m\u001b[0mdata\u001b[0m\u001b[0;34m[\u001b[0m\u001b[0;34m\"labels\"\u001b[0m\u001b[0;34m]\u001b[0m\u001b[0;34m)\u001b[0m\u001b[0;34m.\u001b[0m\u001b[0mto\u001b[0m\u001b[0;34m(\u001b[0m\u001b[0mdevice\u001b[0m\u001b[0;34m)\u001b[0m\u001b[0;34m\u001b[0m\u001b[0;34m\u001b[0m\u001b[0m\n\u001b[0m\u001b[1;32m     12\u001b[0m \u001b[0;34m\u001b[0m\u001b[0m\n\u001b[1;32m     13\u001b[0m         \u001b[0;31m# clearing the Gradients of the model parameters\u001b[0m\u001b[0;34m\u001b[0m\u001b[0;34m\u001b[0m\u001b[0;34m\u001b[0m\u001b[0m\n",
            "\u001b[0;31mValueError\u001b[0m: cannot reshape array of size 65536 into shape (1,1,512,512)"
          ]
        }
      ]
    },
    {
      "cell_type": "code",
      "metadata": {
        "colab": {
          "base_uri": "https://localhost:8080/"
        },
        "id": "fvvyfPRUwOFa",
        "outputId": "00aa170d-db7a-4d93-b91b-3657e47738ec"
      },
      "source": [
        "model.load_state_dict(torch.load('/content/drive/My Drive/brainnet1.pth', map_location = device))"
      ],
      "execution_count": null,
      "outputs": [
        {
          "output_type": "execute_result",
          "data": {
            "text/plain": [
              "<All keys matched successfully>"
            ]
          },
          "metadata": {
            "tags": []
          },
          "execution_count": 9
        }
      ]
    },
    {
      "cell_type": "code",
      "metadata": {
        "id": "DVgobBpL_ksZ"
      },
      "source": [
        "x = model(torch.Tensor(BrainTrainSet[31][\"image\"].reshape((1,1,512,512))).float().cuda())"
      ],
      "execution_count": null,
      "outputs": []
    },
    {
      "cell_type": "code",
      "metadata": {
        "colab": {
          "base_uri": "https://localhost:8080/",
          "height": 286
        },
        "id": "tvOvLl-E_yWA",
        "outputId": "0ab6099e-1f07-4764-e2dd-e2f08dff945c"
      },
      "source": [
        "plt.imshow(x.cpu().detach().numpy().reshape((512,512)))"
      ],
      "execution_count": null,
      "outputs": [
        {
          "output_type": "execute_result",
          "data": {
            "text/plain": [
              "<matplotlib.image.AxesImage at 0x7f36ca12a240>"
            ]
          },
          "metadata": {
            "tags": []
          },
          "execution_count": 12
        },
        {
          "output_type": "display_data",
          "data": {
            "image/png": "[encoded data removed]",
            "text/plain": [
              "<Figure size 432x288 with 1 Axes>"
            ]
          },
          "metadata": {
            "tags": []
          }
        }
      ]
    },
    {
      "cell_type": "code",
      "metadata": {
        "colab": {
          "base_uri": "https://localhost:8080/",
          "height": 286
        },
        "id": "2sXL1CfA_-Vt",
        "outputId": "174c0f78-cc12-41f9-dcb3-35b654f9801e"
      },
      "source": [
        "plt.imshow(BrainTrainSet[31][\"labels\"].reshape((512,512)))"
      ],
      "execution_count": null,
      "outputs": [
        {
          "output_type": "execute_result",
          "data": {
            "text/plain": [
              "<matplotlib.image.AxesImage at 0x7f36ca030278>"
            ]
          },
          "metadata": {
            "tags": []
          },
          "execution_count": 14
        },
        {
          "output_type": "display_data",
          "data": {
            "image/png": "[encoded data removed]",
            "text/plain": [
              "<Figure size 432x288 with 1 Axes>"
            ]
          },
          "metadata": {
            "tags": []
          }
        }
      ]
    },
    {
      "cell_type": "code",
      "metadata": {
        "id": "cG8Bxp5HAG-m"
      },
      "source": [
        " y = x.cpu().detach().numpy().reshape((512,512))"
      ],
      "execution_count": null,
      "outputs": []
    },
    {
      "cell_type": "code",
      "metadata": {
        "id": "LRz70RF-Gm2k"
      },
      "source": [
        "## THRESHOLDING\n",
        "y[y > 0.1] = 1\n",
        "y[y < 0.1] = 0"
      ],
      "execution_count": null,
      "outputs": []
    },
    {
      "cell_type": "code",
      "metadata": {
        "colab": {
          "base_uri": "https://localhost:8080/",
          "height": 286
        },
        "id": "SXeUg6saGlEi",
        "outputId": "ea65231f-af7f-443c-86d6-0684595ace84"
      },
      "source": [
        "plt.imshow(y)"
      ],
      "execution_count": null,
      "outputs": [
        {
          "output_type": "execute_result",
          "data": {
            "text/plain": [
              "<matplotlib.image.AxesImage at 0x7f35d3c85550>"
            ]
          },
          "metadata": {
            "tags": []
          },
          "execution_count": 23
        },
        {
          "output_type": "display_data",
          "data": {
            "image/png": "[encoded data removed]",
            "text/plain": [
              "<Figure size 432x288 with 1 Axes>"
            ]
          },
          "metadata": {
            "tags": []
          }
        }
      ]
    },
    {
      "cell_type": "code",
      "metadata": {
        "colab": {
          "base_uri": "https://localhost:8080/"
        },
        "id": "w2bpEbfAGwLM",
        "outputId": "d3afa609-76d9-4717-ce46-0623cc84d660"
      },
      "source": [
        "BrainTrainSet.TEST_LENGTHS"
      ],
      "execution_count": null,
      "outputs": [
        {
          "output_type": "execute_result",
          "data": {
            "text/plain": [
              "[36, 72, 47]"
            ]
          },
          "metadata": {
            "tags": []
          },
          "execution_count": 17
        }
      ]
    },
    {
      "cell_type": "code",
      "metadata": {
        "id": "ldu_BNt8_DQn"
      },
      "source": [
        "#dice factor\n",
        "def dice_coeff(pred, target, threshold=0.5, epsilon=1e-6, use_sigmoid = True):\n",
        "    # make sure the tensors are align in memory and convert to probabilities if needed\n",
        "    pred = pred.contiguous()\n",
        "    if use_sigmoid:\n",
        "        pred = torch.sigmoid(pred)\n",
        "    target = target.contiguous()\n",
        "\n",
        "    pred = (pred > threshold).float()\n",
        "    intersection = (pred * target).sum(dim=2).sum(dim=2)\n",
        "    dice = (2. * intersection + epsilon) / (pred.sum(dim=2).sum(dim=2) + target.sum(dim=2).sum(dim=2) + epsilon)\n",
        "    return dice.mean()"
      ],
      "execution_count": null,
      "outputs": []
    },
    {
      "cell_type": "code",
      "metadata": {
        "id": "fsCcYhahO3cY",
        "colab": {
          "base_uri": "https://localhost:8080/",
          "height": 254
        },
        "outputId": "650a0e10-a12e-482a-9eef-cbee0dd49e61"
      },
      "source": [
        "for i, paths in enumerate(BrainTrainSet.test_paths):\n",
        "  s = 0\n",
        "  for j in range(len(paths)):\n",
        "      data = BrainTrainSet.test_item(i, j)\n",
        "      print(data)\n",
        "      x_test, y_test = torch.Tensor(data[\"image\"].reshape((1,1,512,512))).to(device), torch.Tensor(data[\"labels\"]).to(device)\n",
        "      output_test = model(x_test.float())\n",
        "      y_test = y_test.reshape((1,1,512,512))\n",
        "      s+=dice_coeff(output_test, y_test)\n",
        "  print(s)"
      ],
      "execution_count": null,
      "outputs": [
        {
          "output_type": "stream",
          "text": [
            "None\n"
          ],
          "name": "stdout"
        },
        {
          "output_type": "error",
          "ename": "TypeError",
          "evalue": "ignored",
          "traceback": [
            "\u001b[0;31m---------------------------------------------------------------------------\u001b[0m",
            "\u001b[0;31mTypeError\u001b[0m                                 Traceback (most recent call last)",
            "\u001b[0;32m<ipython-input-51-ad2354adf2d9>\u001b[0m in \u001b[0;36m<module>\u001b[0;34m()\u001b[0m\n\u001b[1;32m      4\u001b[0m       \u001b[0mdata\u001b[0m \u001b[0;34m=\u001b[0m \u001b[0mBrainTrainSet\u001b[0m\u001b[0;34m.\u001b[0m\u001b[0mtest_item\u001b[0m\u001b[0;34m(\u001b[0m\u001b[0mi\u001b[0m\u001b[0;34m,\u001b[0m \u001b[0mj\u001b[0m\u001b[0;34m)\u001b[0m\u001b[0;34m\u001b[0m\u001b[0;34m\u001b[0m\u001b[0m\n\u001b[1;32m      5\u001b[0m       \u001b[0mprint\u001b[0m\u001b[0;34m(\u001b[0m\u001b[0mdata\u001b[0m\u001b[0;34m)\u001b[0m\u001b[0;34m\u001b[0m\u001b[0;34m\u001b[0m\u001b[0m\n\u001b[0;32m----> 6\u001b[0;31m       \u001b[0mx_test\u001b[0m\u001b[0;34m,\u001b[0m \u001b[0my_test\u001b[0m \u001b[0;34m=\u001b[0m \u001b[0mtorch\u001b[0m\u001b[0;34m.\u001b[0m\u001b[0mTensor\u001b[0m\u001b[0;34m(\u001b[0m\u001b[0mdata\u001b[0m\u001b[0;34m[\u001b[0m\u001b[0;34m\"image\"\u001b[0m\u001b[0;34m]\u001b[0m\u001b[0;34m.\u001b[0m\u001b[0mreshape\u001b[0m\u001b[0;34m(\u001b[0m\u001b[0;34m(\u001b[0m\u001b[0;36m1\u001b[0m\u001b[0;34m,\u001b[0m\u001b[0;36m1\u001b[0m\u001b[0;34m,\u001b[0m\u001b[0;36m512\u001b[0m\u001b[0;34m,\u001b[0m\u001b[0;36m512\u001b[0m\u001b[0;34m)\u001b[0m\u001b[0;34m)\u001b[0m\u001b[0;34m)\u001b[0m\u001b[0;34m.\u001b[0m\u001b[0mto\u001b[0m\u001b[0;34m(\u001b[0m\u001b[0mdevice\u001b[0m\u001b[0;34m)\u001b[0m\u001b[0;34m,\u001b[0m \u001b[0mtorch\u001b[0m\u001b[0;34m.\u001b[0m\u001b[0mTensor\u001b[0m\u001b[0;34m(\u001b[0m\u001b[0mdata\u001b[0m\u001b[0;34m[\u001b[0m\u001b[0;34m\"labels\"\u001b[0m\u001b[0;34m]\u001b[0m\u001b[0;34m)\u001b[0m\u001b[0;34m.\u001b[0m\u001b[0mto\u001b[0m\u001b[0;34m(\u001b[0m\u001b[0mdevice\u001b[0m\u001b[0;34m)\u001b[0m\u001b[0;34m\u001b[0m\u001b[0;34m\u001b[0m\u001b[0m\n\u001b[0m\u001b[1;32m      7\u001b[0m       \u001b[0moutput_test\u001b[0m \u001b[0;34m=\u001b[0m \u001b[0mmodel\u001b[0m\u001b[0;34m(\u001b[0m\u001b[0mx_test\u001b[0m\u001b[0;34m.\u001b[0m\u001b[0mfloat\u001b[0m\u001b[0;34m(\u001b[0m\u001b[0;34m)\u001b[0m\u001b[0;34m)\u001b[0m\u001b[0;34m\u001b[0m\u001b[0;34m\u001b[0m\u001b[0m\n\u001b[1;32m      8\u001b[0m       \u001b[0my_test\u001b[0m \u001b[0;34m=\u001b[0m \u001b[0my_test\u001b[0m\u001b[0;34m.\u001b[0m\u001b[0mreshape\u001b[0m\u001b[0;34m(\u001b[0m\u001b[0;34m(\u001b[0m\u001b[0;36m1\u001b[0m\u001b[0;34m,\u001b[0m\u001b[0;36m1\u001b[0m\u001b[0;34m,\u001b[0m\u001b[0;36m512\u001b[0m\u001b[0;34m,\u001b[0m\u001b[0;36m512\u001b[0m\u001b[0;34m)\u001b[0m\u001b[0;34m)\u001b[0m\u001b[0;34m\u001b[0m\u001b[0;34m\u001b[0m\u001b[0m\n",
            "\u001b[0;31mTypeError\u001b[0m: 'NoneType' object is not subscriptable"
          ]
        }
      ]
    },
    {
      "cell_type": "code",
      "metadata": {
        "colab": {
          "base_uri": "https://localhost:8080/"
        },
        "id": "3jQDqIzNQeS3",
        "outputId": "877c49bc-d4cc-4ac0-8fce-ac443b32c0f4"
      },
      "source": [
        "print(s)"
      ],
      "execution_count": null,
      "outputs": [
        {
          "output_type": "stream",
          "text": [
            "tensor(37.1703, device='cuda:0')\n"
          ],
          "name": "stdout"
        }
      ]
    },
    {
      "cell_type": "markdown",
      "metadata": {
        "id": "X2b4r3UeBuTC"
      },
      "source": [
        "### COMPRESSION PRUNING"
      ]
    },
    {
      "cell_type": "code",
      "metadata": {
        "colab": {
          "base_uri": "https://localhost:8080/"
        },
        "id": "IxjWIcP3Elrn",
        "outputId": "db1b01dc-cdf6-43cf-ae74-b15cd07cce70"
      },
      "source": [
        "model = models_2.link_net(in_ch=1).to(device)\n",
        "model.load_state_dict(torch.load(\"/content/drive/My Drive/brainnet_5_fold.pth\", map_location = device))"
      ],
      "execution_count": null,
      "outputs": [
        {
          "output_type": "execute_result",
          "data": {
            "text/plain": [
              "<All keys matched successfully>"
            ]
          },
          "metadata": {
            "tags": []
          },
          "execution_count": 7
        }
      ]
    },
    {
      "cell_type": "code",
      "metadata": {
        "id": "0vtMv8t1ByBF"
      },
      "source": [
        "import torch.nn.utils.prune as prune\n",
        "count = 0\n",
        "for name, module in model.named_modules():\n",
        "    # prune 20% of connections in all 2D-conv layers\n",
        "    if isinstance(module, torch.nn.Conv2d):\n",
        "        prune.l1_unstructured(module, name='weight', amount=0.4)\n",
        "        count+=1\n",
        "        prune.remove(module, 'weight')\n",
        "    elif isinstance(module, torch.nn.ConvTranspose2d):\n",
        "        prune.l1_unstructured(module, name='weight', amount=0.2)\n",
        "        count+=1\n",
        "        prune.remove(module, 'weight')"
      ],
      "execution_count": null,
      "outputs": []
    },
    {
      "cell_type": "code",
      "metadata": {
        "id": "DranHgZCLhBC"
      },
      "source": [],
      "execution_count": null,
      "outputs": []
    },
    {
      "cell_type": "code",
      "metadata": {
        "colab": {
          "base_uri": "https://localhost:8080/"
        },
        "id": "ldRSCnXVB3gY",
        "outputId": "dfd3f401-d18c-40a3-c455-e8049673fc3b"
      },
      "source": [
        "res = []\n",
        "for i, paths in enumerate(BrainTrainSet.valid_paths):\n",
        "  s = 0\n",
        "  for j in range(len(paths)):\n",
        "      data = BrainTrainSet.valid_item(i, j)\n",
        "      x_test, y_test = torch.Tensor(data[\"image\"].reshape((1,1,512,512))).to(device), torch.Tensor(data[\"labels\"]).to(device)\n",
        "      output_test = model(x_test.float())\n",
        "      y_test = y_test.reshape((1,1,512,512))\n",
        "      s+=dice_coeff(output_test, y_test)\n",
        "  print(s)\n",
        "  res.append(s)\n",
        "\n",
        "val = sum(res)/sum(BrainTrainSet.VALID_LENGTHS)"
      ],
      "execution_count": null,
      "outputs": [
        {
          "output_type": "stream",
          "text": [
            "tensor(33.2013)\n",
            "tensor(57.2354)\n",
            "tensor(42.1767)\n"
          ],
          "name": "stdout"
        }
      ]
    },
    {
      "cell_type": "code",
      "metadata": {
        "id": "DhJB4_axCHuW"
      },
      "source": [
        "torch.save(model.state_dict(), '/content/drive/My Drive/brainnet_5_prune.pth')"
      ],
      "execution_count": null,
      "outputs": []
    },
    {
      "cell_type": "code",
      "metadata": {
        "colab": {
          "base_uri": "https://localhost:8080/"
        },
        "id": "T-2DwcBHDAl_",
        "outputId": "dc2714a9-91c7-4987-bd76-f72100dfae5e"
      },
      "source": [
        "print('Size (MB):', os.path.getsize(\"/content/drive/My Drive/brainnet_5_fold.pth\")/1e6)\n",
        "print('Size (MB):', os.path.getsize(\"/content/drive/My Drive/brainnet_prune_f2.pth\")/1e6)"
      ],
      "execution_count": null,
      "outputs": [
        {
          "output_type": "stream",
          "text": [
            "Size (MB): 191.673074\n",
            "Size (MB): 191.667186\n"
          ],
          "name": "stdout"
        }
      ]
    },
    {
      "cell_type": "code",
      "metadata": {
        "colab": {
          "base_uri": "https://localhost:8080/"
        },
        "id": "H9rS4QecDhpp",
        "outputId": "96cd6a4a-596c-4281-b5ed-e05296a6aaa2"
      },
      "source": [
        "count"
      ],
      "execution_count": null,
      "outputs": [
        {
          "output_type": "execute_result",
          "data": {
            "text/plain": [
              "61"
            ]
          },
          "metadata": {
            "tags": []
          },
          "execution_count": 62
        }
      ]
    },
    {
      "cell_type": "code",
      "metadata": {
        "id": "1KRWeqTPkf7Z"
      },
      "source": [
        "c = 0\n",
        "for i in model.named_modules():\n",
        "  x=i\n",
        "  if c==2:\n",
        "    break\n",
        "  c+=1"
      ],
      "execution_count": null,
      "outputs": []
    },
    {
      "cell_type": "code",
      "metadata": {
        "colab": {
          "base_uri": "https://localhost:8080/"
        },
        "id": "q5h60Jw_5oYp",
        "outputId": "b2bfd2fc-f2fe-4217-f10c-c816ad5c1c12"
      },
      "source": [
        "isinstance(x[1]._mconv[0], torch.nn.Conv2d)"
      ],
      "execution_count": null,
      "outputs": [
        {
          "output_type": "execute_result",
          "data": {
            "text/plain": [
              "True"
            ]
          },
          "metadata": {
            "tags": []
          },
          "execution_count": 26
        }
      ]
    },
    {
      "cell_type": "code",
      "metadata": {
        "colab": {
          "base_uri": "https://localhost:8080/"
        },
        "id": "HAB43dbd6KHU",
        "outputId": "f19ebb66-247b-43e2-c9d6-d4e643b30fcd"
      },
      "source": [
        "model._mconv_1._mconv[0]"
      ],
      "execution_count": null,
      "outputs": [
        {
          "output_type": "execute_result",
          "data": {
            "text/plain": [
              "Conv2d(1, 64, kernel_size=(7, 7), stride=(2, 2), padding=(3, 3))"
            ]
          },
          "metadata": {
            "tags": []
          },
          "execution_count": 35
        }
      ]
    },
    {
      "cell_type": "code",
      "metadata": {
        "id": "lCRQIw9TMQew"
      },
      "source": [
        "prune.l1_unstructured(model._mconv_1._mconv[0], name='weight', amount=0.4)"
      ],
      "execution_count": null,
      "outputs": []
    },
    {
      "cell_type": "code",
      "metadata": {
        "colab": {
          "base_uri": "https://localhost:8080/",
          "height": 185
        },
        "id": "D423zEVUdL9z",
        "outputId": "ca71a6b6-3934-4fcb-fd11-0bfc48caade7"
      },
      "source": [
        "for i in model._mencoder_1._mres_1.named_parameters():\n",
        "  print(i)"
      ],
      "execution_count": null,
      "outputs": [
        {
          "output_type": "error",
          "ename": "AttributeError",
          "evalue": "ignored",
          "traceback": [
            "\u001b[0;31m---------------------------------------------------------------------------\u001b[0m",
            "\u001b[0;31mAttributeError\u001b[0m                            Traceback (most recent call last)",
            "\u001b[0;32m<ipython-input-53-1736f75346c8>\u001b[0m in \u001b[0;36m<module>\u001b[0;34m()\u001b[0m\n\u001b[0;32m----> 1\u001b[0;31m \u001b[0;32mfor\u001b[0m \u001b[0mi\u001b[0m \u001b[0;32min\u001b[0m \u001b[0mmodel\u001b[0m\u001b[0;34m.\u001b[0m\u001b[0m_mencoder_1\u001b[0m\u001b[0;34m.\u001b[0m\u001b[0m_mres_1\u001b[0m\u001b[0;34m.\u001b[0m\u001b[0mnamed_parameters\u001b[0m\u001b[0;34m(\u001b[0m\u001b[0;34m)\u001b[0m\u001b[0;34m.\u001b[0m\u001b[0mkeys\u001b[0m\u001b[0;34m(\u001b[0m\u001b[0;34m)\u001b[0m\u001b[0;34m:\u001b[0m\u001b[0;34m\u001b[0m\u001b[0;34m\u001b[0m\u001b[0m\n\u001b[0m\u001b[1;32m      2\u001b[0m   \u001b[0mprint\u001b[0m\u001b[0;34m(\u001b[0m\u001b[0mi\u001b[0m\u001b[0;34m)\u001b[0m\u001b[0;34m\u001b[0m\u001b[0;34m\u001b[0m\u001b[0m\n",
            "\u001b[0;31mAttributeError\u001b[0m: 'generator' object has no attribute 'keys'"
          ]
        }
      ]
    },
    {
      "cell_type": "code",
      "metadata": {
        "colab": {
          "base_uri": "https://localhost:8080/"
        },
        "id": "TWh39fMXc7WW",
        "outputId": "cefbe404-e063-464c-cb77-93db7104f071"
      },
      "source": [
        "dict(model._mencoder_1._mres_1._mconv_2._mconv.named_modules()).keys()"
      ],
      "execution_count": null,
      "outputs": [
        {
          "output_type": "execute_result",
          "data": {
            "text/plain": [
              "dict_keys(['', '0', '1'])"
            ]
          },
          "metadata": {
            "tags": []
          },
          "execution_count": 8
        }
      ]
    },
    {
      "cell_type": "code",
      "metadata": {
        "colab": {
          "base_uri": "https://localhost:8080/"
        },
        "id": "1VzTgsGdOrrO",
        "outputId": "352344be-f8d9-4dfc-bbf9-b01a169707b2"
      },
      "source": [
        "list(dict(dict(model._mencoder_1._mres_1._mconv_2._mconv.named_modules())[\"0\"].named_modules()).keys()) == ['']"
      ],
      "execution_count": null,
      "outputs": [
        {
          "output_type": "execute_result",
          "data": {
            "text/plain": [
              "True"
            ]
          },
          "metadata": {
            "tags": []
          },
          "execution_count": 21
        }
      ]
    },
    {
      "cell_type": "code",
      "metadata": {
        "colab": {
          "base_uri": "https://localhost:8080/"
        },
        "id": "7n6eKAvbc-uf",
        "outputId": "9a72aacd-855b-4e6b-f236-6ac9534089d2"
      },
      "source": [
        "dict(model._mencoder_1._mres_1._mconv_2.named_modules()).keys()"
      ],
      "execution_count": null,
      "outputs": [
        {
          "output_type": "execute_result",
          "data": {
            "text/plain": [
              "dict_keys(['', '_mconv', '_mconv.0', '_mconv.1'])"
            ]
          },
          "metadata": {
            "tags": []
          },
          "execution_count": 63
        }
      ]
    },
    {
      "cell_type": "code",
      "metadata": {
        "colab": {
          "base_uri": "https://localhost:8080/",
          "height": 167
        },
        "id": "0WmlKzJulV29",
        "outputId": "13ed512e-2943-45ee-80be-62811c763f46"
      },
      "source": [
        "model._mencoder_1._mres_1._mconv_2"
      ],
      "execution_count": null,
      "outputs": [
        {
          "output_type": "error",
          "ename": "TypeError",
          "evalue": "ignored",
          "traceback": [
            "\u001b[0;31m---------------------------------------------------------------------------\u001b[0m",
            "\u001b[0;31mTypeError\u001b[0m                                 Traceback (most recent call last)",
            "\u001b[0;32m<ipython-input-64-4aa2c12cab36>\u001b[0m in \u001b[0;36m<module>\u001b[0;34m()\u001b[0m\n\u001b[0;32m----> 1\u001b[0;31m \u001b[0mmodel\u001b[0m\u001b[0;34m.\u001b[0m\u001b[0m_mencoder_1\u001b[0m\u001b[0;34m.\u001b[0m\u001b[0m_mres_1\u001b[0m\u001b[0;34m.\u001b[0m\u001b[0m_mconv_2\u001b[0m\u001b[0;34m[\u001b[0m\u001b[0;34m\"_mconv\"\u001b[0m\u001b[0;34m]\u001b[0m\u001b[0;34m\u001b[0m\u001b[0;34m\u001b[0m\u001b[0m\n\u001b[0m",
            "\u001b[0;31mTypeError\u001b[0m: 'conv_block' object is not subscriptable"
          ]
        }
      ]
    },
    {
      "cell_type": "code",
      "metadata": {
        "id": "c2PzYaIfl8Hh",
        "colab": {
          "base_uri": "https://localhost:8080/"
        },
        "outputId": "e8ab4c41-1c43-4211-d72c-8e19463007d2"
      },
      "source": [
        "dict(model.named_modules()).keys()"
      ],
      "execution_count": null,
      "outputs": [
        {
          "output_type": "execute_result",
          "data": {
            "text/plain": [
              "dict_keys(['', 'quant', '_mconv_1', '_mconv_1._mconv', '_mconv_1._mconv.0', '_mconv_1._mconv.1', '_mconv_1._mconv.conv_block_relu', '_mmax_pool', '_mencoder_1', '_mencoder_1._mres_1', '_mencoder_1._mres_1._mconv_2', '_mencoder_1._mres_1._mconv_2._mconv', '_mencoder_1._mres_1._mconv_2._mconv.0', '_mencoder_1._mres_1._mconv_2._mconv.1', '_mencoder_1._mres_1._mconv_1', '_mencoder_1._mres_1._mconv_1._mconv', '_mencoder_1._mres_1._mconv_1._mconv.0', '_mencoder_1._mres_1._mconv_1._mconv.1', '_mencoder_1._mres_1._mconv_1._mconv.conv_block_relu', '_mencoder_1._mres_1._mdownsample', '_mencoder_1._mres_1._mdownsample.0', '_mencoder_1._mres_1._mdownsample.1', '_mencoder_1._mres_1._relu', '_mencoder_1._mres_2', '_mencoder_1._mres_2._mconv_2', '_mencoder_1._mres_2._mconv_2._mconv', '_mencoder_1._mres_2._mconv_2._mconv.0', '_mencoder_1._mres_2._mconv_2._mconv.1', '_mencoder_1._mres_2._mconv_1', '_mencoder_1._mres_2._mconv_1._mconv', '_mencoder_1._mres_2._mconv_1._mconv.0', '_mencoder_1._mres_2._mconv_1._mconv.1', '_mencoder_1._mres_2._mconv_1._mconv.conv_block_relu', '_mencoder_1._mres_2._mdownsample', '_mencoder_1._mres_2._mdownsample.0', '_mencoder_1._mres_2._mdownsample.1', '_mencoder_1._mres_2._relu', '_mencoder_2', '_mencoder_2._mres_1', '_mencoder_2._mres_1._mconv_2', '_mencoder_2._mres_1._mconv_2._mconv', '_mencoder_2._mres_1._mconv_2._mconv.0', '_mencoder_2._mres_1._mconv_2._mconv.1', '_mencoder_2._mres_1._mconv_1', '_mencoder_2._mres_1._mconv_1._mconv', '_mencoder_2._mres_1._mconv_1._mconv.0', '_mencoder_2._mres_1._mconv_1._mconv.1', '_mencoder_2._mres_1._mconv_1._mconv.conv_block_relu', '_mencoder_2._mres_1._mdownsample', '_mencoder_2._mres_1._mdownsample.0', '_mencoder_2._mres_1._mdownsample.1', '_mencoder_2._mres_1._relu', '_mencoder_2._mres_2', '_mencoder_2._mres_2._mconv_2', '_mencoder_2._mres_2._mconv_2._mconv', '_mencoder_2._mres_2._mconv_2._mconv.0', '_mencoder_2._mres_2._mconv_2._mconv.1', '_mencoder_2._mres_2._mconv_1', '_mencoder_2._mres_2._mconv_1._mconv', '_mencoder_2._mres_2._mconv_1._mconv.0', '_mencoder_2._mres_2._mconv_1._mconv.1', '_mencoder_2._mres_2._mconv_1._mconv.conv_block_relu', '_mencoder_2._mres_2._mdownsample', '_mencoder_2._mres_2._mdownsample.0', '_mencoder_2._mres_2._mdownsample.1', '_mencoder_2._mres_2._relu', '_mencoder_3', '_mencoder_3._mres_1', '_mencoder_3._mres_1._mconv_2', '_mencoder_3._mres_1._mconv_2._mconv', '_mencoder_3._mres_1._mconv_2._mconv.0', '_mencoder_3._mres_1._mconv_2._mconv.1', '_mencoder_3._mres_1._mconv_1', '_mencoder_3._mres_1._mconv_1._mconv', '_mencoder_3._mres_1._mconv_1._mconv.0', '_mencoder_3._mres_1._mconv_1._mconv.1', '_mencoder_3._mres_1._mconv_1._mconv.conv_block_relu', '_mencoder_3._mres_1._mdownsample', '_mencoder_3._mres_1._mdownsample.0', '_mencoder_3._mres_1._mdownsample.1', '_mencoder_3._mres_1._relu', '_mencoder_3._mres_2', '_mencoder_3._mres_2._mconv_2', '_mencoder_3._mres_2._mconv_2._mconv', '_mencoder_3._mres_2._mconv_2._mconv.0', '_mencoder_3._mres_2._mconv_2._mconv.1', '_mencoder_3._mres_2._mconv_1', '_mencoder_3._mres_2._mconv_1._mconv', '_mencoder_3._mres_2._mconv_1._mconv.0', '_mencoder_3._mres_2._mconv_1._mconv.1', '_mencoder_3._mres_2._mconv_1._mconv.conv_block_relu', '_mencoder_3._mres_2._mdownsample', '_mencoder_3._mres_2._mdownsample.0', '_mencoder_3._mres_2._mdownsample.1', '_mencoder_3._mres_2._relu', '_mencoder_4', '_mencoder_4._mres_1', '_mencoder_4._mres_1._mconv_2', '_mencoder_4._mres_1._mconv_2._mconv', '_mencoder_4._mres_1._mconv_2._mconv.0', '_mencoder_4._mres_1._mconv_2._mconv.1', '_mencoder_4._mres_1._mconv_1', '_mencoder_4._mres_1._mconv_1._mconv', '_mencoder_4._mres_1._mconv_1._mconv.0', '_mencoder_4._mres_1._mconv_1._mconv.1', '_mencoder_4._mres_1._mconv_1._mconv.conv_block_relu', '_mencoder_4._mres_1._mdownsample', '_mencoder_4._mres_1._mdownsample.0', '_mencoder_4._mres_1._mdownsample.1', '_mencoder_4._mres_1._relu', '_mencoder_4._mres_2', '_mencoder_4._mres_2._mconv_2', '_mencoder_4._mres_2._mconv_2._mconv', '_mencoder_4._mres_2._mconv_2._mconv.0', '_mencoder_4._mres_2._mconv_2._mconv.1', '_mencoder_4._mres_2._mconv_1', '_mencoder_4._mres_2._mconv_1._mconv', '_mencoder_4._mres_2._mconv_1._mconv.0', '_mencoder_4._mres_2._mconv_1._mconv.1', '_mencoder_4._mres_2._mconv_1._mconv.conv_block_relu', '_mencoder_4._mres_2._mdownsample', '_mencoder_4._mres_2._mdownsample.0', '_mencoder_4._mres_2._mdownsample.1', '_mencoder_4._mres_2._relu', '_mencoder_5', '_mencoder_5._mres_1', '_mencoder_5._mres_1._mconv_2', '_mencoder_5._mres_1._mconv_2._mconv', '_mencoder_5._mres_1._mconv_2._mconv.0', '_mencoder_5._mres_1._mconv_2._mconv.1', '_mencoder_5._mres_1._mconv_1', '_mencoder_5._mres_1._mconv_1._mconv', '_mencoder_5._mres_1._mconv_1._mconv.0', '_mencoder_5._mres_1._mconv_1._mconv.1', '_mencoder_5._mres_1._mconv_1._mconv.conv_block_relu', '_mencoder_5._mres_1._mdownsample', '_mencoder_5._mres_1._mdownsample.0', '_mencoder_5._mres_1._mdownsample.1', '_mencoder_5._mres_1._relu', '_mencoder_5._mres_2', '_mencoder_5._mres_2._mconv_2', '_mencoder_5._mres_2._mconv_2._mconv', '_mencoder_5._mres_2._mconv_2._mconv.0', '_mencoder_5._mres_2._mconv_2._mconv.1', '_mencoder_5._mres_2._mconv_1', '_mencoder_5._mres_2._mconv_1._mconv', '_mencoder_5._mres_2._mconv_1._mconv.0', '_mencoder_5._mres_2._mconv_1._mconv.1', '_mencoder_5._mres_2._mconv_1._mconv.conv_block_relu', '_mencoder_5._mres_2._mdownsample', '_mencoder_5._mres_2._mdownsample.0', '_mencoder_5._mres_2._mdownsample.1', '_mencoder_5._mres_2._relu', '_mdecoder_1', '_mdecoder_1._mconv_1', '_mdecoder_1._mconv_1._mconv', '_mdecoder_1._mconv_1._mconv.0', '_mdecoder_1._mconv_1._mconv.1', '_mdecoder_1._mconv_1._mconv.conv_block_relu', '_mdecoder_1._mdeconv_1', '_mdecoder_1._mdeconv_1._conv_trans_2d', '_mdecoder_1._mdeconv_1._batch_norm_2d', '_mdecoder_1._mdeconv_1._relu', '_mdecoder_1._mconv_2', '_mdecoder_1._mconv_2._mconv', '_mdecoder_1._mconv_2._mconv.0', '_mdecoder_1._mconv_2._mconv.1', '_mdecoder_1._mconv_2._mconv.conv_block_relu', '_mdecoder_2', '_mdecoder_2._mconv_1', '_mdecoder_2._mconv_1._mconv', '_mdecoder_2._mconv_1._mconv.0', '_mdecoder_2._mconv_1._mconv.1', '_mdecoder_2._mconv_1._mconv.conv_block_relu', '_mdecoder_2._mdeconv_1', '_mdecoder_2._mdeconv_1._conv_trans_2d', '_mdecoder_2._mdeconv_1._batch_norm_2d', '_mdecoder_2._mdeconv_1._relu', '_mdecoder_2._mconv_2', '_mdecoder_2._mconv_2._mconv', '_mdecoder_2._mconv_2._mconv.0', '_mdecoder_2._mconv_2._mconv.1', '_mdecoder_2._mconv_2._mconv.conv_block_relu', '_mdecoder_3', '_mdecoder_3._mconv_1', '_mdecoder_3._mconv_1._mconv', '_mdecoder_3._mconv_1._mconv.0', '_mdecoder_3._mconv_1._mconv.1', '_mdecoder_3._mconv_1._mconv.conv_block_relu', '_mdecoder_3._mdeconv_1', '_mdecoder_3._mdeconv_1._conv_trans_2d', '_mdecoder_3._mdeconv_1._batch_norm_2d', '_mdecoder_3._mdeconv_1._relu', '_mdecoder_3._mconv_2', '_mdecoder_3._mconv_2._mconv', '_mdecoder_3._mconv_2._mconv.0', '_mdecoder_3._mconv_2._mconv.1', '_mdecoder_3._mconv_2._mconv.conv_block_relu', '_mdecoder_4', '_mdecoder_4._mconv_1', '_mdecoder_4._mconv_1._mconv', '_mdecoder_4._mconv_1._mconv.0', '_mdecoder_4._mconv_1._mconv.1', '_mdecoder_4._mconv_1._mconv.conv_block_relu', '_mdecoder_4._mdeconv_1', '_mdecoder_4._mdeconv_1._conv_trans_2d', '_mdecoder_4._mdeconv_1._batch_norm_2d', '_mdecoder_4._mdeconv_1._relu', '_mdecoder_4._mconv_2', '_mdecoder_4._mconv_2._mconv', '_mdecoder_4._mconv_2._mconv.0', '_mdecoder_4._mconv_2._mconv.1', '_mdecoder_4._mconv_2._mconv.conv_block_relu', '_mdeccoder_5', '_mdeccoder_5._mconv_1', '_mdeccoder_5._mconv_1._mconv', '_mdeccoder_5._mconv_1._mconv.0', '_mdeccoder_5._mconv_1._mconv.1', '_mdeccoder_5._mconv_1._mconv.conv_block_relu', '_mdeccoder_5._mdeconv_1', '_mdeccoder_5._mdeconv_1._conv_trans_2d', '_mdeccoder_5._mdeconv_1._batch_norm_2d', '_mdeccoder_5._mdeconv_1._relu', '_mdeccoder_5._mconv_2', '_mdeccoder_5._mconv_2._mconv', '_mdeccoder_5._mconv_2._mconv.0', '_mdeccoder_5._mconv_2._mconv.1', '_mdeccoder_5._mconv_2._mconv.conv_block_relu', '_deconv_1', '_deconv_1._conv_trans_2d', '_deconv_1._batch_norm_2d', '_deconv_1._relu', '_mconv_2', '_mconv_2._mconv', '_mconv_2._mconv.0', '_mconv_2._mconv.1', '_mconv_2._mconv.conv_block_relu', '_deconv_2', '_deconv_2._conv_trans_2d', '_deconv_2._batch_norm_2d', '_deconv_2._relu', '_attblock_2', '_attblock_2.W_g', '_attblock_2.W_g.0', '_attblock_2.W_g.1', '_attblock_2.W_x', '_attblock_2.W_x.0', '_attblock_2.W_x.1', '_attblock_2.psi', '_attblock_2.psi.0', '_attblock_2.psi.1', '_attblock_2.psi.2', '_attblock_2.relu', '_attblock_3', '_attblock_3.W_g', '_attblock_3.W_g.0', '_attblock_3.W_g.1', '_attblock_3.W_x', '_attblock_3.W_x.0', '_attblock_3.W_x.1', '_attblock_3.psi', '_attblock_3.psi.0', '_attblock_3.psi.1', '_attblock_3.psi.2', '_attblock_3.relu', '_attblock_4', '_attblock_4.W_g', '_attblock_4.W_g.0', '_attblock_4.W_g.1', '_attblock_4.W_x', '_attblock_4.W_x.0', '_attblock_4.W_x.1', '_attblock_4.psi', '_attblock_4.psi.0', '_attblock_4.psi.1', '_attblock_4.psi.2', '_attblock_4.relu', '_attblock_5', '_attblock_5.W_g', '_attblock_5.W_g.0', '_attblock_5.W_g.1', '_attblock_5.W_x', '_attblock_5.W_x.0', '_attblock_5.W_x.1', '_attblock_5.psi', '_attblock_5.psi.0', '_attblock_5.psi.1', '_attblock_5.psi.2', '_attblock_5.relu', 'dequant'])"
            ]
          },
          "metadata": {
            "tags": []
          },
          "execution_count": 17
        }
      ]
    },
    {
      "cell_type": "code",
      "metadata": {
        "id": "-xUiiw9XSnw-"
      },
      "source": [
        "import torch.nn.utils.prune as prune\n",
        "def prune_recursive(module):\n",
        "  x = dict(module.named_modules())\n",
        "  if list(x.keys())==[''] or not x:\n",
        "    return\n",
        "  for i in list(x.keys()):\n",
        "    if i == '':\n",
        "      continue\n",
        "    if isinstance(x[i], torch.nn.Conv2d):\n",
        "        prune.l1_unstructured(x[i], name='weight', amount=2)\n",
        "        prune.remove(x[i], 'weight')\n",
        "    else:\n",
        "      prune_recursive(x[i])\n",
        "  return"
      ],
      "execution_count": null,
      "outputs": []
    },
    {
      "cell_type": "code",
      "metadata": {
        "id": "Y1RNkVgpUAS4"
      },
      "source": [
        "count = 0\n",
        "prune_recursive(model)"
      ],
      "execution_count": null,
      "outputs": []
    },
    {
      "cell_type": "code",
      "metadata": {
        "id": "fmnBWCpobDSx"
      },
      "source": [
        "n = n.split('\\n')"
      ],
      "execution_count": null,
      "outputs": []
    },
    {
      "cell_type": "code",
      "metadata": {
        "colab": {
          "base_uri": "https://localhost:8080/"
        },
        "id": "AIgwXtp5bFEs",
        "outputId": "567a017f-0c78-499f-8bcc-f8459f66cc20"
      },
      "source": [
        "len(n)"
      ],
      "execution_count": null,
      "outputs": [
        {
          "output_type": "execute_result",
          "data": {
            "text/plain": [
              "539"
            ]
          },
          "metadata": {
            "tags": []
          },
          "execution_count": 47
        }
      ]
    },
    {
      "cell_type": "code",
      "metadata": {
        "id": "0pM2BWoWbF0F"
      },
      "source": [],
      "execution_count": null,
      "outputs": []
    }
  ]
}